{
 "cells": [
  {
   "cell_type": "code",
   "execution_count": 9,
   "id": "0100f405-a7ad-4254-b22e-4128e7d5e756",
   "metadata": {},
   "outputs": [
    {
     "name": "stdout",
     "output_type": "stream",
     "text": [
      "Election Results\n",
      "-------------------------\n",
      "Total Votes: 369711\n",
      "-------------------------\n",
      "Charles Casper Stockham: 23.049% (85213)\n",
      "Diana DeGette: 73.812% (272892)\n",
      "Raymon Anthony Doane: 3.139% (11606)\n",
      "-------------------------\n",
      "Winner: Diana DeGette\n",
      "-------------------------\n"
     ]
    }
   ],
   "source": [
    "import csv\n",
    "import os \n",
    "\n",
    "election_csv = r\"/Users/katigbakv/Desktop/Starter_Code 8/PyPoll/Resources/election_data.csv\"\n",
    "\n",
    "total_votes = 0\n",
    "candidate_votes = {}\n",
    "\n",
    "\n",
    "with open(election_csv, mode='r') as file:\n",
    "    csvreader = csv.reader(file)\n",
    "    header = next(csvreader)\n",
    "    \n",
    "\n",
    "    for row in csvreader:\n",
    "        total_votes += 1  \n",
    "        candidate = row[2] \n",
    "        \n",
    "        if candidate in candidate_votes:\n",
    "            candidate_votes[candidate] += 1\n",
    "        else:\n",
    "            candidate_votes[candidate] = 1\n",
    "\n",
    "winner = max(candidate_votes, key=candidate_votes.get)  \n",
    "\n",
    "\n",
    "print(\"Election Results\")\n",
    "print(\"-------------------------\")\n",
    "print(f\"Total Votes: {total_votes}\")\n",
    "print(\"-------------------------\")\n",
    "for candidate, votes in candidate_votes.items():\n",
    "    percentage = (votes / total_votes) * 100\n",
    "    print(f\"{candidate}: {percentage:.3f}% ({votes})\")\n",
    "print(\"-------------------------\")\n",
    "print(f\"Winner: {winner}\")\n",
    "print(\"-------------------------\")"
   ]
  },
  {
   "cell_type": "code",
   "execution_count": null,
   "id": "7a151cc5-e20f-4e68-9656-50a594ea5bcb",
   "metadata": {},
   "outputs": [],
   "source": []
  }
 ],
 "metadata": {
  "kernelspec": {
   "display_name": "Python 3 (ipykernel)",
   "language": "python",
   "name": "python3"
  },
  "language_info": {
   "codemirror_mode": {
    "name": "ipython",
    "version": 3
   },
   "file_extension": ".py",
   "mimetype": "text/x-python",
   "name": "python",
   "nbconvert_exporter": "python",
   "pygments_lexer": "ipython3",
   "version": "3.12.4"
  }
 },
 "nbformat": 4,
 "nbformat_minor": 5
}
