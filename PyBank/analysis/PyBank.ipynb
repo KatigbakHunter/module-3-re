{
 "cells": [
  {
   "cell_type": "code",
   "execution_count": 29,
   "id": "4be20088-34ac-4e10-beba-1e2d530f628f",
   "metadata": {},
   "outputs": [
    {
     "name": "stdout",
     "output_type": "stream",
     "text": [
      "Financial Analysis\n",
      "-------------------\n",
      "Total Net: $22564198\n",
      "Total Months: 85\n",
      "Net Monthly Average: -8311.11\n",
      "Greatest Increase in Profits: Aug-16 ($1862002)\n",
      "Greatest Decrease in Profits: Feb-14 ($-1825558)\n"
     ]
    }
   ],
   "source": [
    "import csv\n",
    "\n",
    "budget_csv = r\"/Users/katigbakv/Desktop/Starter_Code 8/PyBank/Resources/budget_data.csv\"\n",
    "\n",
    "total_net = 0\n",
    "total_months = 0 \n",
    "net_change_list = []\n",
    "month_of_changes = []\n",
    "\n",
    "\n",
    "greatest_increase = {\"amount\": float('-inf'), \"month\": \"\"}\n",
    "greatest_decrease = {\"amount\": float('inf'), \"month\": \"\"}\n",
    "\n",
    "with open(budget_csv, mode='r') as file:\n",
    "    csvreader = csv.reader(file)\n",
    "    header = next(csvreader)\n",
    "\n",
    "\n",
    "    first_row = next(csvreader)\n",
    "    total_net += int(first_row[1])\n",
    "    previous_net = int(first_row[1])\n",
    "\n",
    "\n",
    "    for row in csvreader:\n",
    "        total_months += 1\n",
    "        total_net += int(row[1])\n",
    "        \n",
    "        net_change = int(row[1]) - previous_net\n",
    "        net_change_list.append(net_change)\n",
    "\n",
    "        \n",
    "        month_of_changes.append(row[0])\n",
    "        previous_net = int(row[1])\n",
    "\n",
    "        \n",
    "        if net_change > greatest_increase[\"amount\"]:\n",
    "            greatest_increase[\"amount\"] = net_change\n",
    "            greatest_increase[\"month\"] = row[0]\n",
    "\n",
    "       \n",
    "        if net_change < greatest_decrease[\"amount\"]:\n",
    "            greatest_decrease[\"amount\"] = net_change\n",
    "            greatest_decrease[\"month\"] = row[0]\n",
    "\n",
    "\n",
    "net_monthly_average = sum(net_change_list) / len(net_change_list)\n",
    "\n",
    "print(f\"Financial Analysis\")\n",
    "print(f\"-------------------\")\n",
    "print(f\"Total Net: ${total_net}\")\n",
    "print(f\"Total Months: {total_months}\")\n",
    "print(f\"Net Monthly Average: {net_monthly_average:.2f}\")\n",
    "print(f\"Greatest Increase in Profits: {greatest_increase['month']} (${greatest_increase['amount']})\")\n",
    "print(f\"Greatest Decrease in Profits: {greatest_decrease['month']} (${greatest_decrease['amount']})\")"
   ]
  },
  {
   "cell_type": "code",
   "execution_count": null,
   "id": "9b5690c8-908d-4d33-bcc0-89eb3c7a2019",
   "metadata": {},
   "outputs": [],
   "source": []
  }
 ],
 "metadata": {
  "kernelspec": {
   "display_name": "Python 3 (ipykernel)",
   "language": "python",
   "name": "python3"
  },
  "language_info": {
   "codemirror_mode": {
    "name": "ipython",
    "version": 3
   },
   "file_extension": ".py",
   "mimetype": "text/x-python",
   "name": "python",
   "nbconvert_exporter": "python",
   "pygments_lexer": "ipython3",
   "version": "3.12.4"
  }
 },
 "nbformat": 4,
 "nbformat_minor": 5
}
